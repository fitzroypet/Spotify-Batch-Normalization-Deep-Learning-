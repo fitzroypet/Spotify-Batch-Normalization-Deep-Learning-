{
 "cells": [
  {
   "cell_type": "markdown",
   "id": "1ce059d4",
   "metadata": {
    "papermill": {
     "duration": 0.016304,
     "end_time": "2022-02-09T00:05:14.137444",
     "exception": false,
     "start_time": "2022-02-09T00:05:14.121140",
     "status": "completed"
    },
    "tags": []
   },
   "source": [
    "**This notebook is an exercise in the [Intro to Deep Learning](https://www.kaggle.com/learn/intro-to-deep-learning) course.  You can reference the tutorial at [this link](https://www.kaggle.com/ryanholbrook/dropout-and-batch-normalization).**\n",
    "\n",
    "---\n"
   ]
  },
  {
   "cell_type": "markdown",
   "id": "6a2022f2",
   "metadata": {
    "papermill": {
     "duration": 0.013832,
     "end_time": "2022-02-09T00:05:14.166057",
     "exception": false,
     "start_time": "2022-02-09T00:05:14.152225",
     "status": "completed"
    },
    "tags": []
   },
   "source": [
    "# Introduction #\n",
    "\n",
    "In this exercise, you'll add dropout to the *Spotify* model from Exercise 4 and see how batch normalization can let you successfully train models on difficult datasets.\n",
    "\n",
    "Run the next cell to get started!"
   ]
  },
  {
   "cell_type": "code",
   "execution_count": 1,
   "id": "27754c6f",
   "metadata": {
    "execution": {
     "iopub.execute_input": "2022-02-09T00:05:14.206509Z",
     "iopub.status.busy": "2022-02-09T00:05:14.205707Z",
     "iopub.status.idle": "2022-02-09T00:05:14.228221Z",
     "shell.execute_reply": "2022-02-09T00:05:14.228606Z",
     "shell.execute_reply.started": "2021-11-16T01:00:37.078099Z"
    },
    "papermill": {
     "duration": 0.048807,
     "end_time": "2022-02-09T00:05:14.228820",
     "exception": false,
     "start_time": "2022-02-09T00:05:14.180013",
     "status": "completed"
    },
    "tags": []
   },
   "outputs": [],
   "source": [
    "# Setup plotting\n",
    "import matplotlib.pyplot as plt\n",
    "plt.style.use('seaborn-whitegrid')\n",
    "# Set Matplotlib defaults\n",
    "plt.rc('figure', autolayout=True)\n",
    "plt.rc('axes', labelweight='bold', labelsize='large',\n",
    "       titleweight='bold', titlesize=18, titlepad=10)\n",
    "plt.rc('animation', html='html5')\n",
    "\n",
    "# Setup feedback system\n",
    "from learntools.core import binder\n",
    "binder.bind(globals())\n",
    "from learntools.deep_learning_intro.ex5 import *"
   ]
  },
  {
   "cell_type": "markdown",
   "id": "f5b3f581",
   "metadata": {
    "papermill": {
     "duration": 0.014073,
     "end_time": "2022-02-09T00:05:14.258264",
     "exception": false,
     "start_time": "2022-02-09T00:05:14.244191",
     "status": "completed"
    },
    "tags": []
   },
   "source": [
    "First load the *Spotify* dataset."
   ]
  },
  {
   "cell_type": "code",
   "execution_count": 2,
   "id": "beaa0f20",
   "metadata": {
    "execution": {
     "iopub.execute_input": "2022-02-09T00:05:14.295597Z",
     "iopub.status.busy": "2022-02-09T00:05:14.294921Z",
     "iopub.status.idle": "2022-02-09T00:05:20.587002Z",
     "shell.execute_reply": "2022-02-09T00:05:20.587555Z",
     "shell.execute_reply.started": "2021-11-16T01:07:39.891351Z"
    },
    "papermill": {
     "duration": 6.315459,
     "end_time": "2022-02-09T00:05:20.587703",
     "exception": false,
     "start_time": "2022-02-09T00:05:14.272244",
     "status": "completed"
    },
    "tags": []
   },
   "outputs": [
    {
     "name": "stdout",
     "output_type": "stream",
     "text": [
      "Input shape: [18]\n"
     ]
    }
   ],
   "source": [
    "import pandas as pd\n",
    "from sklearn.preprocessing import StandardScaler, OneHotEncoder\n",
    "from sklearn.compose import make_column_transformer\n",
    "from sklearn.model_selection import GroupShuffleSplit\n",
    "\n",
    "from tensorflow import keras\n",
    "from tensorflow.keras import layers\n",
    "from tensorflow.keras import callbacks\n",
    "\n",
    "spotify = pd.read_csv('../input/dl-course-data/spotify.csv')\n",
    "\n",
    "X = spotify.copy().dropna()\n",
    "y = X.pop('track_popularity')\n",
    "artists = X['track_artist']\n",
    "\n",
    "features_num = ['danceability', 'energy', 'key', 'loudness', 'mode',\n",
    "                'speechiness', 'acousticness', 'instrumentalness',\n",
    "                'liveness', 'valence', 'tempo', 'duration_ms']\n",
    "features_cat = ['playlist_genre']\n",
    "\n",
    "preprocessor = make_column_transformer(\n",
    "    (StandardScaler(), features_num),\n",
    "    (OneHotEncoder(), features_cat),\n",
    ")\n",
    "\n",
    "def group_split(X, y, group, train_size=0.75):\n",
    "    splitter = GroupShuffleSplit(train_size=train_size)\n",
    "    train, test = next(splitter.split(X, y, groups=group))\n",
    "    return (X.iloc[train], X.iloc[test], y.iloc[train], y.iloc[test])\n",
    "\n",
    "X_train, X_valid, y_train, y_valid = group_split(X, y, artists)\n",
    "\n",
    "X_train = preprocessor.fit_transform(X_train)\n",
    "X_valid = preprocessor.transform(X_valid)\n",
    "y_train = y_train / 100\n",
    "y_valid = y_valid / 100\n",
    "\n",
    "input_shape = [X_train.shape[1]]\n",
    "print(\"Input shape: {}\".format(input_shape))"
   ]
  },
  {
   "cell_type": "markdown",
   "id": "a6de6fda",
   "metadata": {
    "papermill": {
     "duration": 0.014266,
     "end_time": "2022-02-09T00:05:20.616613",
     "exception": false,
     "start_time": "2022-02-09T00:05:20.602347",
     "status": "completed"
    },
    "tags": []
   },
   "source": [
    "# 1) Add Dropout to Spotify Model\n",
    "\n",
    "Here is the last model from Exercise 4. Add two dropout layers, one after the `Dense` layer with 128 units, and one after the `Dense` layer with 64 units. Set the dropout rate on both to `0.3`."
   ]
  },
  {
   "cell_type": "code",
   "execution_count": 3,
   "id": "b040d86a",
   "metadata": {
    "execution": {
     "iopub.execute_input": "2022-02-09T00:05:20.650107Z",
     "iopub.status.busy": "2022-02-09T00:05:20.649425Z",
     "iopub.status.idle": "2022-02-09T00:05:23.105778Z",
     "shell.execute_reply": "2022-02-09T00:05:23.105346Z",
     "shell.execute_reply.started": "2021-11-16T01:09:50.984986Z"
    },
    "lines_to_next_cell": 2,
    "papermill": {
     "duration": 2.475165,
     "end_time": "2022-02-09T00:05:23.105887",
     "exception": false,
     "start_time": "2022-02-09T00:05:20.630722",
     "status": "completed"
    },
    "tags": []
   },
   "outputs": [
    {
     "name": "stderr",
     "output_type": "stream",
     "text": [
      "2022-02-09 00:05:20.731146: I tensorflow/stream_executor/cuda/cuda_gpu_executor.cc:937] successful NUMA node read from SysFS had negative value (-1), but there must be at least one NUMA node, so returning NUMA node zero\n",
      "2022-02-09 00:05:20.852126: I tensorflow/stream_executor/cuda/cuda_gpu_executor.cc:937] successful NUMA node read from SysFS had negative value (-1), but there must be at least one NUMA node, so returning NUMA node zero\n",
      "2022-02-09 00:05:20.852818: I tensorflow/stream_executor/cuda/cuda_gpu_executor.cc:937] successful NUMA node read from SysFS had negative value (-1), but there must be at least one NUMA node, so returning NUMA node zero\n",
      "2022-02-09 00:05:20.854575: I tensorflow/core/platform/cpu_feature_guard.cc:142] This TensorFlow binary is optimized with oneAPI Deep Neural Network Library (oneDNN) to use the following CPU instructions in performance-critical operations:  AVX2 AVX512F FMA\n",
      "To enable them in other operations, rebuild TensorFlow with the appropriate compiler flags.\n",
      "2022-02-09 00:05:20.855743: I tensorflow/stream_executor/cuda/cuda_gpu_executor.cc:937] successful NUMA node read from SysFS had negative value (-1), but there must be at least one NUMA node, so returning NUMA node zero\n",
      "2022-02-09 00:05:20.856675: I tensorflow/stream_executor/cuda/cuda_gpu_executor.cc:937] successful NUMA node read from SysFS had negative value (-1), but there must be at least one NUMA node, so returning NUMA node zero\n",
      "2022-02-09 00:05:20.857550: I tensorflow/stream_executor/cuda/cuda_gpu_executor.cc:937] successful NUMA node read from SysFS had negative value (-1), but there must be at least one NUMA node, so returning NUMA node zero\n",
      "2022-02-09 00:05:22.737269: I tensorflow/stream_executor/cuda/cuda_gpu_executor.cc:937] successful NUMA node read from SysFS had negative value (-1), but there must be at least one NUMA node, so returning NUMA node zero\n",
      "2022-02-09 00:05:22.738035: I tensorflow/stream_executor/cuda/cuda_gpu_executor.cc:937] successful NUMA node read from SysFS had negative value (-1), but there must be at least one NUMA node, so returning NUMA node zero\n",
      "2022-02-09 00:05:22.738675: I tensorflow/stream_executor/cuda/cuda_gpu_executor.cc:937] successful NUMA node read from SysFS had negative value (-1), but there must be at least one NUMA node, so returning NUMA node zero\n",
      "2022-02-09 00:05:22.739291: I tensorflow/core/common_runtime/gpu/gpu_device.cc:1510] Created device /job:localhost/replica:0/task:0/device:GPU:0 with 15403 MB memory:  -> device: 0, name: Tesla P100-PCIE-16GB, pci bus id: 0000:00:04.0, compute capability: 6.0\n"
     ]
    },
    {
     "data": {
      "application/javascript": [
       "parent.postMessage({\"jupyterEvent\": \"custom.exercise_interaction\", \"data\": {\"outcomeType\": 1, \"valueTowardsCompletion\": 0.25, \"interactionType\": 1, \"questionType\": 2, \"questionId\": \"1_Q1\", \"learnToolsVersion\": \"0.3.4\", \"failureMessage\": \"\", \"exceptionClass\": \"\", \"trace\": \"\"}}, \"*\")"
      ],
      "text/plain": [
       "<IPython.core.display.Javascript object>"
      ]
     },
     "metadata": {},
     "output_type": "display_data"
    },
    {
     "data": {
      "text/markdown": [
       "<span style=\"color:#33cc33\">Correct</span>"
      ],
      "text/plain": [
       "Correct"
      ]
     },
     "metadata": {},
     "output_type": "display_data"
    }
   ],
   "source": [
    "# YOUR CODE HERE: Add two 30% dropout layers, one after 128 and one after 64\n",
    "model = keras.Sequential([\n",
    "    layers.Dense(128, activation='relu', input_shape=input_shape),\n",
    "    layers.Dropout(0.3),\n",
    "    layers.Dense(64, activation='relu'),\n",
    "    layers.Dropout(0.3),\n",
    "    layers.Dense(1)\n",
    "])\n",
    "\n",
    "# Check your answer\n",
    "q_1.check()"
   ]
  },
  {
   "cell_type": "code",
   "execution_count": 4,
   "id": "c1d79e21",
   "metadata": {
    "execution": {
     "iopub.execute_input": "2022-02-09T00:05:23.142330Z",
     "iopub.status.busy": "2022-02-09T00:05:23.141673Z",
     "iopub.status.idle": "2022-02-09T00:05:23.144535Z",
     "shell.execute_reply": "2022-02-09T00:05:23.144030Z"
    },
    "papermill": {
     "duration": 0.022326,
     "end_time": "2022-02-09T00:05:23.144635",
     "exception": false,
     "start_time": "2022-02-09T00:05:23.122309",
     "status": "completed"
    },
    "tags": []
   },
   "outputs": [],
   "source": [
    "# Lines below will give you a hint or solution code\n",
    "#q_1.hint()\n",
    "#q_1.solution()"
   ]
  },
  {
   "cell_type": "markdown",
   "id": "e8c16bdb",
   "metadata": {
    "papermill": {
     "duration": 0.018242,
     "end_time": "2022-02-09T00:05:23.179573",
     "exception": false,
     "start_time": "2022-02-09T00:05:23.161331",
     "status": "completed"
    },
    "tags": []
   },
   "source": [
    "Now run this next cell to train the model see the effect of adding dropout."
   ]
  },
  {
   "cell_type": "code",
   "execution_count": 5,
   "id": "315e5d62",
   "metadata": {
    "execution": {
     "iopub.execute_input": "2022-02-09T00:05:23.227142Z",
     "iopub.status.busy": "2022-02-09T00:05:23.222846Z",
     "iopub.status.idle": "2022-02-09T00:05:34.205696Z",
     "shell.execute_reply": "2022-02-09T00:05:34.206111Z",
     "shell.execute_reply.started": "2021-11-16T01:10:41.828926Z"
    },
    "papermill": {
     "duration": 11.008079,
     "end_time": "2022-02-09T00:05:34.206265",
     "exception": false,
     "start_time": "2022-02-09T00:05:23.198186",
     "status": "completed"
    },
    "tags": []
   },
   "outputs": [
    {
     "name": "stderr",
     "output_type": "stream",
     "text": [
      "2022-02-09 00:05:23.300394: I tensorflow/compiler/mlir/mlir_graph_optimization_pass.cc:185] None of the MLIR Optimization Passes are enabled (registered 2)\n"
     ]
    },
    {
     "name": "stdout",
     "output_type": "stream",
     "text": [
      "Minimum Validation Loss: 0.1900\n"
     ]
    },
    {
     "data": {
      "image/png": "[encoded data removed]",
      "text/plain": [
       "<Figure size 432x288 with 1 Axes>"
      ]
     },
     "metadata": {},
     "output_type": "display_data"
    }
   ],
   "source": [
    "model.compile(\n",
    "    optimizer='adam',\n",
    "    loss='mae',\n",
    ")\n",
    "history = model.fit(\n",
    "    X_train, y_train,\n",
    "    validation_data=(X_valid, y_valid),\n",
    "    batch_size=512,\n",
    "    epochs=50,\n",
    "    verbose=0,\n",
    ")\n",
    "history_df = pd.DataFrame(history.history)\n",
    "history_df.loc[:, ['loss', 'val_loss']].plot()\n",
    "print(\"Minimum Validation Loss: {:0.4f}\".format(history_df['val_loss'].min()))"
   ]
  },
  {
   "cell_type": "markdown",
   "id": "7e274fe0",
   "metadata": {
    "papermill": {
     "duration": 0.016877,
     "end_time": "2022-02-09T00:05:34.240316",
     "exception": false,
     "start_time": "2022-02-09T00:05:34.223439",
     "status": "completed"
    },
    "tags": []
   },
   "source": [
    "# 2) Evaluate Dropout\n",
    "\n",
    "Recall from Exercise 4 that this model tended to overfit the data around epoch 5. Did adding dropout seem to help prevent overfitting this time?"
   ]
  },
  {
   "cell_type": "code",
   "execution_count": 6,
   "id": "00615891",
   "metadata": {
    "execution": {
     "iopub.execute_input": "2022-02-09T00:05:34.278790Z",
     "iopub.status.busy": "2022-02-09T00:05:34.278290Z",
     "iopub.status.idle": "2022-02-09T00:05:34.285156Z",
     "shell.execute_reply": "2022-02-09T00:05:34.284663Z",
     "shell.execute_reply.started": "2021-11-16T01:11:53.520576Z"
    },
    "papermill": {
     "duration": 0.027476,
     "end_time": "2022-02-09T00:05:34.285275",
     "exception": false,
     "start_time": "2022-02-09T00:05:34.257799",
     "status": "completed"
    },
    "tags": []
   },
   "outputs": [
    {
     "data": {
      "application/javascript": [
       "parent.postMessage({\"jupyterEvent\": \"custom.exercise_interaction\", \"data\": {\"outcomeType\": 1, \"valueTowardsCompletion\": 0.25, \"interactionType\": 1, \"questionType\": 4, \"questionId\": \"2_Q2\", \"learnToolsVersion\": \"0.3.4\", \"failureMessage\": \"\", \"exceptionClass\": \"\", \"trace\": \"\"}}, \"*\")"
      ],
      "text/plain": [
       "<IPython.core.display.Javascript object>"
      ]
     },
     "metadata": {},
     "output_type": "display_data"
    },
    {
     "data": {
      "text/markdown": [
       "<span style=\"color:#33cc33\">Correct:</span> \n",
       "\n",
       "\n",
       "From the learning curves, you can see that the validation loss remains near a constant minimum even though the training loss continues to decrease. So we can see that adding dropout did prevent overfitting this time. Moreover, by making it harder for the network to fit spurious patterns, dropout may have encouraged the network to seek out more of the true patterns, possibly improving the validation loss some as well).\n"
      ],
      "text/plain": [
       "Correct: \n",
       "\n",
       "\n",
       "From the learning curves, you can see that the validation loss remains near a constant minimum even though the training loss continues to decrease. So we can see that adding dropout did prevent overfitting this time. Moreover, by making it harder for the network to fit spurious patterns, dropout may have encouraged the network to seek out more of the true patterns, possibly improving the validation loss some as well)."
      ]
     },
     "metadata": {},
     "output_type": "display_data"
    }
   ],
   "source": [
    "# View the solution (Run this cell to receive credit!)\n",
    "q_2.check()"
   ]
  },
  {
   "cell_type": "markdown",
   "id": "3963f77b",
   "metadata": {
    "papermill": {
     "duration": 0.017741,
     "end_time": "2022-02-09T00:05:34.320854",
     "exception": false,
     "start_time": "2022-02-09T00:05:34.303113",
     "status": "completed"
    },
    "tags": []
   },
   "source": [
    "Now, we'll switch topics to explore how batch normalization can fix problems in training.\n",
    "\n",
    "Load the *Concrete* dataset. We won't do any standardization this time. This will make the effect of batch normalization much more apparent."
   ]
  },
  {
   "cell_type": "code",
   "execution_count": 7,
   "id": "323ad1e7",
   "metadata": {
    "execution": {
     "iopub.execute_input": "2022-02-09T00:05:34.363545Z",
     "iopub.status.busy": "2022-02-09T00:05:34.363041Z",
     "iopub.status.idle": "2022-02-09T00:05:34.382570Z",
     "shell.execute_reply": "2022-02-09T00:05:34.382170Z",
     "shell.execute_reply.started": "2021-11-16T01:15:08.154353Z"
    },
    "papermill": {
     "duration": 0.043569,
     "end_time": "2022-02-09T00:05:34.382683",
     "exception": false,
     "start_time": "2022-02-09T00:05:34.339114",
     "status": "completed"
    },
    "tags": []
   },
   "outputs": [],
   "source": [
    "import pandas as pd\n",
    "\n",
    "concrete = pd.read_csv('../input/dl-course-data/concrete.csv')\n",
    "df = concrete.copy()\n",
    "\n",
    "df_train = df.sample(frac=0.7, random_state=0)\n",
    "df_valid = df.drop(df_train.index)\n",
    "\n",
    "X_train = df_train.drop('CompressiveStrength', axis=1)\n",
    "X_valid = df_valid.drop('CompressiveStrength', axis=1)\n",
    "y_train = df_train['CompressiveStrength']\n",
    "y_valid = df_valid['CompressiveStrength']\n",
    "\n",
    "input_shape = [X_train.shape[1]]"
   ]
  },
  {
   "cell_type": "markdown",
   "id": "06944c0d",
   "metadata": {
    "papermill": {
     "duration": 0.017955,
     "end_time": "2022-02-09T00:05:34.420000",
     "exception": false,
     "start_time": "2022-02-09T00:05:34.402045",
     "status": "completed"
    },
    "tags": []
   },
   "source": [
    "Run the following cell to train the network on the unstandardized *Concrete* data."
   ]
  },
  {
   "cell_type": "code",
   "execution_count": 8,
   "id": "25758d53",
   "metadata": {
    "execution": {
     "iopub.execute_input": "2022-02-09T00:05:34.466191Z",
     "iopub.status.busy": "2022-02-09T00:05:34.465578Z",
     "iopub.status.idle": "2022-02-09T00:05:40.119450Z",
     "shell.execute_reply": "2022-02-09T00:05:40.120450Z",
     "shell.execute_reply.started": "2021-11-16T01:15:54.094944Z"
    },
    "papermill": {
     "duration": 5.682819,
     "end_time": "2022-02-09T00:05:40.120609",
     "exception": false,
     "start_time": "2022-02-09T00:05:34.437790",
     "status": "completed"
    },
    "tags": []
   },
   "outputs": [
    {
     "name": "stdout",
     "output_type": "stream",
     "text": [
      "Minimum Validation Loss: nan\n"
     ]
    },
    {
     "data": {
      "image/png": "[encoded data removed]",
      "text/plain": [
       "<Figure size 432x288 with 1 Axes>"
      ]
     },
     "metadata": {},
     "output_type": "display_data"
    }
   ],
   "source": [
    "model = keras.Sequential([\n",
    "    layers.Dense(512, activation='relu', input_shape=input_shape),\n",
    "    layers.Dense(512, activation='relu'),    \n",
    "    layers.Dense(512, activation='relu'),\n",
    "    layers.Dense(1),\n",
    "])\n",
    "model.compile(\n",
    "    optimizer='sgd', # SGD is more sensitive to differences of scale\n",
    "    loss='mae',\n",
    "    metrics=['mae'],\n",
    ")\n",
    "history = model.fit(\n",
    "    X_train, y_train,\n",
    "    validation_data=(X_valid, y_valid),\n",
    "    batch_size=64,\n",
    "    epochs=100,\n",
    "    verbose=0,\n",
    ")\n",
    "\n",
    "history_df = pd.DataFrame(history.history)\n",
    "history_df.loc[0:, ['loss', 'val_loss']].plot()\n",
    "print((\"Minimum Validation Loss: {:0.4f}\").format(history_df['val_loss'].min()))"
   ]
  },
  {
   "cell_type": "markdown",
   "id": "39d52f69",
   "metadata": {
    "papermill": {
     "duration": 0.018584,
     "end_time": "2022-02-09T00:05:40.159883",
     "exception": false,
     "start_time": "2022-02-09T00:05:40.141299",
     "status": "completed"
    },
    "tags": []
   },
   "source": [
    "Did you end up with a blank graph? Trying to train this network on this dataset will usually fail. Even when it does converge (due to a lucky weight initialization), it tends to converge to a very large number.\n",
    "\n",
    "# 3) Add Batch Normalization Layers\n",
    "\n",
    "Batch normalization can help correct problems like this.\n",
    "\n",
    "Add four `BatchNormalization` layers, one before each of the dense layers. (Remember to move the `input_shape` argument to the new first layer.)"
   ]
  },
  {
   "cell_type": "code",
   "execution_count": 9,
   "id": "962fdaff",
   "metadata": {
    "execution": {
     "iopub.execute_input": "2022-02-09T00:05:40.210746Z",
     "iopub.status.busy": "2022-02-09T00:05:40.209778Z",
     "iopub.status.idle": "2022-02-09T00:05:40.277408Z",
     "shell.execute_reply": "2022-02-09T00:05:40.277894Z",
     "shell.execute_reply.started": "2021-11-16T01:21:13.342107Z"
    },
    "lines_to_next_cell": 0,
    "papermill": {
     "duration": 0.099198,
     "end_time": "2022-02-09T00:05:40.278050",
     "exception": false,
     "start_time": "2022-02-09T00:05:40.178852",
     "status": "completed"
    },
    "tags": []
   },
   "outputs": [
    {
     "data": {
      "application/javascript": [
       "parent.postMessage({\"jupyterEvent\": \"custom.exercise_interaction\", \"data\": {\"outcomeType\": 1, \"valueTowardsCompletion\": 0.25, \"interactionType\": 1, \"questionType\": 2, \"questionId\": \"3_Q3\", \"learnToolsVersion\": \"0.3.4\", \"failureMessage\": \"\", \"exceptionClass\": \"\", \"trace\": \"\"}}, \"*\")"
      ],
      "text/plain": [
       "<IPython.core.display.Javascript object>"
      ]
     },
     "metadata": {},
     "output_type": "display_data"
    },
    {
     "data": {
      "text/markdown": [
       "<span style=\"color:#33cc33\">Correct</span>"
      ],
      "text/plain": [
       "Correct"
      ]
     },
     "metadata": {},
     "output_type": "display_data"
    }
   ],
   "source": [
    "# YOUR CODE HERE: Add a BatchNormalization layer before each Dense layer\n",
    "model = keras.Sequential([\n",
    "    layers.BatchNormalization(input_shape=input_shape),\n",
    "    layers.Dense(512, activation='relu'),\n",
    "    layers.BatchNormalization(),\n",
    "    layers.Dense(512, activation='relu'),\n",
    "    layers.BatchNormalization(),\n",
    "    layers.Dense(512, activation='relu'),\n",
    "    layers.BatchNormalization(),\n",
    "    layers.Dense(1),\n",
    "])\n",
    "\n",
    "# Check your answer\n",
    "q_3.check()"
   ]
  },
  {
   "cell_type": "code",
   "execution_count": 10,
   "id": "fabcf191",
   "metadata": {
    "execution": {
     "iopub.execute_input": "2022-02-09T00:05:40.321369Z",
     "iopub.status.busy": "2022-02-09T00:05:40.320825Z",
     "iopub.status.idle": "2022-02-09T00:05:40.328224Z",
     "shell.execute_reply": "2022-02-09T00:05:40.327702Z",
     "shell.execute_reply.started": "2021-11-16T01:19:15.16317Z"
    },
    "papermill": {
     "duration": 0.030509,
     "end_time": "2022-02-09T00:05:40.328339",
     "exception": false,
     "start_time": "2022-02-09T00:05:40.297830",
     "status": "completed"
    },
    "tags": []
   },
   "outputs": [
    {
     "data": {
      "application/javascript": [
       "parent.postMessage({\"jupyterEvent\": \"custom.exercise_interaction\", \"data\": {\"interactionType\": 2, \"questionType\": 2, \"questionId\": \"3_Q3\", \"learnToolsVersion\": \"0.3.4\", \"valueTowardsCompletion\": 0.0, \"failureMessage\": \"\", \"exceptionClass\": \"\", \"trace\": \"\", \"outcomeType\": 4}}, \"*\")"
      ],
      "text/plain": [
       "<IPython.core.display.Javascript object>"
      ]
     },
     "metadata": {},
     "output_type": "display_data"
    },
    {
     "data": {
      "text/markdown": [
       "<span style=\"color:#3366cc\">Hint:</span> Your answer should look something like:\n",
       "```python\n",
       "model = keras.Sequential([\n",
       "    # Batch Normalization\n",
       "    # Dense\n",
       "    # Batch Normalization\n",
       "    # Dense\n",
       "    # Batch Normalization\n",
       "    # Dense\n",
       "    # Batch Normalization\n",
       "    # Dense\n",
       "])\n",
       "```\n"
      ],
      "text/plain": [
       "Hint: Your answer should look something like:\n",
       "```python\n",
       "model = keras.Sequential([\n",
       "    # Batch Normalization\n",
       "    # Dense\n",
       "    # Batch Normalization\n",
       "    # Dense\n",
       "    # Batch Normalization\n",
       "    # Dense\n",
       "    # Batch Normalization\n",
       "    # Dense\n",
       "])\n",
       "```"
      ]
     },
     "metadata": {},
     "output_type": "display_data"
    }
   ],
   "source": [
    "# Lines below will give you a hint or solution code\n",
    "q_3.hint()\n",
    "#q_3.solution()"
   ]
  },
  {
   "cell_type": "markdown",
   "id": "475ade6b",
   "metadata": {
    "papermill": {
     "duration": 0.020304,
     "end_time": "2022-02-09T00:05:40.369157",
     "exception": false,
     "start_time": "2022-02-09T00:05:40.348853",
     "status": "completed"
    },
    "tags": []
   },
   "source": [
    "Run the next cell to see if batch normalization will let us train the model."
   ]
  },
  {
   "cell_type": "code",
   "execution_count": 11,
   "id": "7aa58b56",
   "metadata": {
    "execution": {
     "iopub.execute_input": "2022-02-09T00:05:40.418351Z",
     "iopub.status.busy": "2022-02-09T00:05:40.417683Z",
     "iopub.status.idle": "2022-02-09T00:05:51.792519Z",
     "shell.execute_reply": "2022-02-09T00:05:51.792055Z",
     "shell.execute_reply.started": "2021-11-16T01:21:52.832936Z"
    },
    "papermill": {
     "duration": 11.403149,
     "end_time": "2022-02-09T00:05:51.792636",
     "exception": false,
     "start_time": "2022-02-09T00:05:40.389487",
     "status": "completed"
    },
    "tags": []
   },
   "outputs": [
    {
     "name": "stdout",
     "output_type": "stream",
     "text": [
      "Minimum Validation Loss: 4.1105\n"
     ]
    },
    {
     "data": {
      "image/png": "[encoded data removed]",
      "text/plain": [
       "<Figure size 432x288 with 1 Axes>"
      ]
     },
     "metadata": {},
     "output_type": "display_data"
    }
   ],
   "source": [
    "model.compile(\n",
    "    optimizer='sgd',\n",
    "    loss='mae',\n",
    "    metrics=['mae'],\n",
    ")\n",
    "EPOCHS = 100\n",
    "history = model.fit(\n",
    "    X_train, y_train,\n",
    "    validation_data=(X_valid, y_valid),\n",
    "    batch_size=64,\n",
    "    epochs=EPOCHS,\n",
    "    verbose=0,\n",
    ")\n",
    "\n",
    "history_df = pd.DataFrame(history.history)\n",
    "history_df.loc[0:, ['loss', 'val_loss']].plot()\n",
    "print((\"Minimum Validation Loss: {:0.4f}\").format(history_df['val_loss'].min()))"
   ]
  },
  {
   "cell_type": "markdown",
   "id": "c0e16d67",
   "metadata": {
    "papermill": {
     "duration": 0.02152,
     "end_time": "2022-02-09T00:05:51.836620",
     "exception": false,
     "start_time": "2022-02-09T00:05:51.815100",
     "status": "completed"
    },
    "tags": []
   },
   "source": [
    "# 4) Evaluate Batch Normalization\n",
    "\n",
    "Did adding batch normalization help?"
   ]
  },
  {
   "cell_type": "code",
   "execution_count": 12,
   "id": "8a15bc2a",
   "metadata": {
    "execution": {
     "iopub.execute_input": "2022-02-09T00:05:51.884031Z",
     "iopub.status.busy": "2022-02-09T00:05:51.883502Z",
     "iopub.status.idle": "2022-02-09T00:05:51.890338Z",
     "shell.execute_reply": "2022-02-09T00:05:51.889874Z",
     "shell.execute_reply.started": "2021-11-16T01:23:50.32638Z"
    },
    "lines_to_next_cell": 0,
    "papermill": {
     "duration": 0.032371,
     "end_time": "2022-02-09T00:05:51.890453",
     "exception": false,
     "start_time": "2022-02-09T00:05:51.858082",
     "status": "completed"
    },
    "tags": []
   },
   "outputs": [
    {
     "data": {
      "application/javascript": [
       "parent.postMessage({\"jupyterEvent\": \"custom.exercise_interaction\", \"data\": {\"outcomeType\": 1, \"valueTowardsCompletion\": 0.25, \"interactionType\": 1, \"questionType\": 4, \"questionId\": \"4_Q4\", \"learnToolsVersion\": \"0.3.4\", \"failureMessage\": \"\", \"exceptionClass\": \"\", \"trace\": \"\"}}, \"*\")"
      ],
      "text/plain": [
       "<IPython.core.display.Javascript object>"
      ]
     },
     "metadata": {},
     "output_type": "display_data"
    },
    {
     "data": {
      "text/markdown": [
       "<span style=\"color:#33cc33\">Correct:</span> \n",
       "\n",
       "\n",
       "You can see that adding batch normalization was a big improvement on the first attempt! By adaptively scaling the data as it passes through the network, batch normalization can let you train models on difficult datasets.\n"
      ],
      "text/plain": [
       "Correct: \n",
       "\n",
       "\n",
       "You can see that adding batch normalization was a big improvement on the first attempt! By adaptively scaling the data as it passes through the network, batch normalization can let you train models on difficult datasets."
      ]
     },
     "metadata": {},
     "output_type": "display_data"
    }
   ],
   "source": [
    "# View the solution (Run this cell to receive credit!)\n",
    "q_4.check()"
   ]
  },
  {
   "cell_type": "markdown",
   "id": "99db396c",
   "metadata": {
    "papermill": {
     "duration": 0.022254,
     "end_time": "2022-02-09T00:05:51.935294",
     "exception": false,
     "start_time": "2022-02-09T00:05:51.913040",
     "status": "completed"
    },
    "tags": []
   },
   "source": [
    "# Keep Going #\n",
    "\n",
    "[**Create neural networks**](https://www.kaggle.com/ryanholbrook/binary-classification) for binary classification."
   ]
  },
  {
   "cell_type": "markdown",
   "id": "0a3d05d0",
   "metadata": {
    "papermill": {
     "duration": 0.022011,
     "end_time": "2022-02-09T00:05:51.979933",
     "exception": false,
     "start_time": "2022-02-09T00:05:51.957922",
     "status": "completed"
    },
    "tags": []
   },
   "source": [
    "---\n",
    "\n",
    "\n",
    "\n",
    "\n",
    "*Have questions or comments? Visit the [course discussion forum](https://www.kaggle.com/learn/intro-to-deep-learning/discussion) to chat with other learners.*"
   ]
  }
 ],
 "metadata": {
  "kernelspec": {
   "display_name": "Python 3",
   "language": "python",
   "name": "python3"
  },
  "language_info": {
   "codemirror_mode": {
    "name": "ipython",
    "version": 3
   },
   "file_extension": ".py",
   "mimetype": "text/x-python",
   "name": "python",
   "nbconvert_exporter": "python",
   "pygments_lexer": "ipython3",
   "version": "3.7.12"
  },
  "papermill": {
   "default_parameters": {},
   "duration": 49.384366,
   "end_time": "2022-02-09T00:05:55.264932",
   "environment_variables": {},
   "exception": null,
   "input_path": "__notebook__.ipynb",
   "output_path": "__notebook__.ipynb",
   "parameters": {},
   "start_time": "2022-02-09T00:05:05.880566",
   "version": "2.3.3"
  }
 },
 "nbformat": 4,
 "nbformat_minor": 5
}
